{
 "cells": [
  {
   "cell_type": "markdown",
   "metadata": {},
   "source": [
    "1> corpus -  paragraph\n",
    "2> Documents - sentence\n",
    "3>vocabulary\n",
    "4> words"
   ]
  },
  {
   "cell_type": "raw",
   "metadata": {},
   "source": [
    "D1 - food is good   1\n",
    "D2 - food is bad    0\n",
    "D3 - pizza is amazing  1\n",
    "D4 - burger is bad   0"
   ]
  },
  {
   "cell_type": "markdown",
   "metadata": {},
   "source": [
    "### one hot encoding (17:58)"
   ]
  },
  {
   "cell_type": "markdown",
   "metadata": {},
   "source": [
    "\"The cat sat on the mat\"\n"
   ]
  },
  {
   "cell_type": "markdown",
   "metadata": {},
   "source": [
    "Vocabulary = [\"The\", \"cat\", \"sat\", \"on\", \"mat\"]\n"
   ]
  },
  {
   "cell_type": "raw",
   "metadata": {},
   "source": [
    "Vocabulary = {\n",
    "  \"The\": 0,\n",
    "  \"cat\": 1,\n",
    "  \"sat\": 2,\n",
    "  \"on\": 3,\n",
    "  \"mat\": 4\n",
    "}\n"
   ]
  },
  {
   "cell_type": "raw",
   "metadata": {
    "vscode": {
     "languageId": "raw"
    }
   },
   "source": [
    "[\"The\", \"cat\", \"sat\", \"on\", \"the\", \"mat\"] → [\n",
    "  [1, 0, 0, 0, 0],   # The\n",
    "  [0, 1, 0, 0, 0],   # cat\n",
    "  [0, 0, 1, 0, 0],   # sat\n",
    "  [0, 0, 0, 1, 0],   # on\n",
    "  [1, 0, 0, 0, 0],   # the\n",
    "  [0, 0, 0, 0, 1]    # mat\n",
    "]\n"
   ]
  },
  {
   "cell_type": "markdown",
   "metadata": {},
   "source": [
    "1. Document 1: \"The cat sat\"\n",
    "2. Document 2: \"The dog barked\"\n",
    "3. Document 3: \"The cat barked\""
   ]
  },
  {
   "cell_type": "markdown",
   "metadata": {},
   "source": [
    "Vocabulary = [\"The\", \"cat\", \"sat\", \"dog\", \"barked\"]\n"
   ]
  },
  {
   "cell_type": "raw",
   "metadata": {
    "vscode": {
     "languageId": "raw"
    }
   },
   "source": [
    "Vocabulary = {\n",
    "  \"The\": 0,\n",
    "  \"cat\": 1,\n",
    "  \"sat\": 2,\n",
    "  \"dog\": 3,\n",
    "  \"barked\": 4\n",
    "}\n"
   ]
  },
  {
   "cell_type": "raw",
   "metadata": {
    "vscode": {
     "languageId": "raw"
    }
   },
   "source": [
    "Document 1 = [\n",
    "  [1, 0, 0, 0, 0],   # The\n",
    "  [0, 1, 0, 0, 0],   # cat\n",
    "  [0, 0, 1, 0, 0]    # sat\n",
    "]\n"
   ]
  },
  {
   "cell_type": "raw",
   "metadata": {
    "vscode": {
     "languageId": "raw"
    }
   },
   "source": [
    "Document 2 = [\n",
    "  [1, 0, 0, 0, 0],   # The\n",
    "  [0, 0, 0, 1, 0],   # dog\n",
    "  [0, 0, 0, 0, 1]    # barked\n",
    "]\n"
   ]
  },
  {
   "cell_type": "raw",
   "metadata": {
    "vscode": {
     "languageId": "raw"
    }
   },
   "source": [
    "Document 3 = [\n",
    "  [1, 0, 0, 0, 0],   # The\n",
    "  [0, 1, 0, 0, 0],   # cat\n",
    "  [0, 0, 0, 0, 1]    # barked\n",
    "]\n"
   ]
  },
  {
   "cell_type": "markdown",
   "metadata": {
    "vscode": {
     "languageId": "raw"
    }
   },
   "source": [
    "- disadvantages\n",
    "   - sparse matrix\n",
    "   - out of vocabulary\n",
    "   - not fixed size\n",
    "   - semantic meaning between word is not captured"
   ]
  },
  {
   "cell_type": "markdown",
   "metadata": {
    "vscode": {
     "languageId": "raw"
    }
   },
   "source": [
    "### bag of words\n",
    "     "
   ]
  },
  {
   "cell_type": "raw",
   "metadata": {},
   "source": [
    "D1 - food is good   1\n",
    "D2 - food is bad    0\n",
    "D3 - pizza is amazing  1\n",
    "D4 - burger is bad   0\n"
   ]
  },
  {
   "cell_type": "markdown",
   "metadata": {
    "vscode": {
     "languageId": "raw"
    }
   },
   "source": [
    "![](images/stmt.png)"
   ]
  },
  {
   "cell_type": "markdown",
   "metadata": {},
   "source": [
    "- remove stopwords\n",
    "- create vocabulary\n",
    "- create frequency"
   ]
  },
  {
   "cell_type": "markdown",
   "metadata": {},
   "source": [
    "![](images/freq.png)"
   ]
  },
  {
   "cell_type": "markdown",
   "metadata": {},
   "source": [
    "- word to vector convertion\n",
    "- create features based on order of frequency\n",
    "- and convert documents"
   ]
  },
  {
   "cell_type": "markdown",
   "metadata": {},
   "source": [
    "![](images/doc.png)"
   ]
  },
  {
   "cell_type": "markdown",
   "metadata": {},
   "source": [
    "- if one more good is present increase count of good (2)\n",
    "- <b>binary bag of words</b> -> if more than one just one is taken\n",
    "- \n"
   ]
  }
 ],
 "metadata": {
  "kernelspec": {
   "display_name": "base",
   "language": "python",
   "name": "python3"
  },
  "language_info": {
   "codemirror_mode": {
    "name": "ipython",
    "version": 3
   },
   "file_extension": ".py",
   "mimetype": "text/x-python",
   "name": "python",
   "nbconvert_exporter": "python",
   "pygments_lexer": "ipython3",
   "version": "3.12.7"
  }
 },
 "nbformat": 4,
 "nbformat_minor": 2
}
