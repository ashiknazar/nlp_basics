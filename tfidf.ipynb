{
 "cells": [
  {
   "cell_type": "markdown",
   "metadata": {},
   "source": [
    "In the example we are working with, \"Python\" appears in all three documents. Hence, its IDF would be 0, as explained. This should result in a TF-IDF score of 0 for \"Python\" in all documents.\n",
    "\n",
    "However, there is one key exception to this — scikit-learn's TfidfVectorizer uses smoothing by default. Specifically, it applies additive smoothing (also known as Laplace smoothing) to the IDF formula to prevent division by zero. The formula for IDF becomes:\n",
    "\n",
    "$$\n",
    "\\text{IDF}(t) = \\log\\left(\\frac{N - \\text{df}(t) + 1}{\\text{df}(t) + 1}\\right) + 1\n",
    "$$\n"
   ]
  },
  {
   "cell_type": "markdown",
   "metadata": {},
   "source": []
  }
 ],
 "metadata": {
  "language_info": {
   "name": "python"
  }
 },
 "nbformat": 4,
 "nbformat_minor": 2
}
