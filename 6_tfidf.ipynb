{
 "cells": [
  {
   "cell_type": "markdown",
   "metadata": {},
   "source": [
    "#### TF-IDF (Term Frequency-Inverse Document Frequency) \n",
    "is a statistical measure used to evaluate how important a word is to a document in a collection or corpus. It helps reduce the impact of frequently occurring words like \"the,\" \"is,\" and \"and,\" which carry less informational value."
   ]
  },
  {
   "cell_type": "markdown",
   "metadata": {},
   "source": [
    "#### 1.Term Frequency (TF): \n",
    "The number of times a word appears in a document relative to the total number of words in that document. It measures the word's frequency in the document."
   ]
  },
  {
   "cell_type": "markdown",
   "metadata": {},
   "source": [
    "$ TF(t,d)=(Number of times term t appears in document d) /(Total number of terms in document d)$"
   ]
  },
  {
   "cell_type": "markdown",
   "metadata": {},
   "source": [
    "#### 2.Inverse Document Frequency (IDF):"
   ]
  },
  {
   "cell_type": "markdown",
   "metadata": {},
   "source": [
    " The logarithm of the inverse fraction of documents that contain the word. Words that appear in many documents will have a low IDF, meaning they are not useful in distinguishing documents."
   ]
  },
  {
   "cell_type": "markdown",
   "metadata": {},
   "source": [
    "IDF(t,D)=log(Total number of documents/number of documents containing term t)"
   ]
  },
  {
   "cell_type": "markdown",
   "metadata": {},
   "source": [
    "#### 3.TF-IDF: \n",
    "The product of TF and IDF, used to weigh words.\n",
    "\n",
    "$TF-IDF(t,d,D)=TF(t,d)×IDF(t,D)$"
   ]
  },
  {
   "cell_type": "markdown",
   "metadata": {},
   "source": [
    "___\n",
    "___"
   ]
  },
  {
   "cell_type": "markdown",
   "metadata": {},
   "source": [
    "### Example:\n",
    "\n",
    "Let’s take the following three documents:\n",
    "\n",
    "1. \"I love programming in Python.\"\n",
    "2. \"Python is a great programming language.\"\n",
    "3. \"I love learning Python.\"\n",
    "\n",
    "We will calculate the TF-IDF for the word \"Python\" in each document.\n",
    "\n",
    "#### Step 1: Calculate Term Frequency (TF)\n",
    "For each document, we calculate the frequency of the term \"Python.\"\n",
    "\n",
    "- **Document 1**: \"I love programming in Python.\"\n",
    "  - Term frequency of \"Python\": $ \\frac{1}{5} = 0.2 $\n",
    "\n",
    "- **Document 2**: \"Python is a great programming language.\"\n",
    "  - Term frequency of \"Python\": $ \\frac{1}{6} = 0.167 $\n",
    "\n",
    "- **Document 3**: \"I love learning Python.\"\n",
    "  - Term frequency of \"Python\": $ \\frac{1}{4} = 0.25 $\n",
    "\n",
    "#### Step 2: Calculate Inverse Document Frequency (IDF)\n",
    "Now, we calculate how important the term \"Python\" is across all documents.\n",
    "\n",
    "The word \"Python\" appears in all three documents. So, the IDF will be:\n",
    "\n",
    "$ \\text{IDF(Python)} = \\log \\left( \\frac{3}{3} \\right) = 0 $\n",
    "\n",
    "Since the IDF of \"Python\" is 0 (it appears in all documents), it will have no distinguishing power.\n",
    "\n",
    "#### Step 3: Calculate TF-IDF\n",
    "Now, multiply the TF and IDF for each document.\n",
    "\n",
    "- **Document 1**: TF-IDF = $ 0.2 \\times 0 = 0 $\n",
    "- **Document 2**: TF-IDF = $ 0.167 \\times 0 = 0 $\n",
    "- **Document 3**: TF-IDF = $ 0.25 \\times 0 = 0 $\n",
    "\n",
    "Since the IDF for \"Python\" is 0, its TF-IDF score is also 0 in all documents. This shows that \"Python\" is not a good keyword for distinguishing these documents.\n"
   ]
  },
  {
   "cell_type": "markdown",
   "metadata": {},
   "source": [
    "___\n",
    "___"
   ]
  },
  {
   "cell_type": "markdown",
   "metadata": {},
   "source": [
    "```python\n",
    "from sklearn.feature_extraction.text import TfidfVectorizer\n",
    "\n",
    "# Example documents\n",
    "documents = [\n",
    "    \"I love programming in Python.\",\n",
    "    \"Python is a great programming language.\",\n",
    "    \"I love learning Python.\"\n",
    "]\n",
    "\n",
    "# Initialize the TfidfVectorizer\n",
    "vectorizer = TfidfVectorizer()\n",
    "\n",
    "# Fit and transform the documents into TF-IDF matrix\n",
    "tfidf_matrix = vectorizer.fit_transform(documents)\n",
    "\n",
    "# Convert the matrix to a DataFrame for easier interpretation\n",
    "import pandas as pd\n",
    "df_tfidf = pd.DataFrame(tfidf_matrix.toarray(), columns=vectorizer.get_feature_names_out())\n",
    "\n",
    "print(df_tfidf)\n"
   ]
  },
  {
   "cell_type": "markdown",
   "metadata": {},
   "source": []
  }
 ],
 "metadata": {
  "language_info": {
   "name": "python"
  }
 },
 "nbformat": 4,
 "nbformat_minor": 2
}
