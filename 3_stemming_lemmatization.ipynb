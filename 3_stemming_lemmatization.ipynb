{
 "cells": [
  {
   "cell_type": "markdown",
   "metadata": {},
   "source": [
    "### Stemming vs Lemmatization in Natural Language Processing\n",
    "Both stemming and lemmatization are text preprocessing techniques used to reduce words to their base or root form. They help in normalizing text data, especially when working with natural language processing (NLP) tasks like text classification, sentiment analysis, or information retrieval. However, they differ in their approach and output.\n",
    "___\n",
    "___"
   ]
  },
  {
   "cell_type": "markdown",
   "metadata": {},
   "source": [
    "#### 1. Stemming\n",
    "\n",
    "Stemming is the process of reducing words to their root form by chopping off prefixes or suffixes. The goal is to reduce words to a common base form, which might not always be a valid word in the language. Stemming uses rules to perform this reduction, but it doesn't consider the word's meaning or context.\n"
   ]
  },
  {
   "cell_type": "markdown",
   "metadata": {},
   "source": [
    "- Words like \"running\", \"runner\", and \"ran\" might be reduced to the root \"run\".\n",
    "- Words like \"happiness\" and \"happily\" might be reduced to \"happi\"."
   ]
  },
  {
   "cell_type": "markdown",
   "metadata": {},
   "source": [
    "```python\n",
    "from nltk.stem import PorterStemmer\n",
    "\n",
    "stemmer = PorterStemmer()\n",
    "words = [\"running\", \"runner\", \"happiness\", \"better\"]\n",
    "stemmed_words = [stemmer.stem(word) for word in words]\n",
    "print(stemmed_words)  # Output: ['run', 'runner', 'happi', 'better']\n"
   ]
  },
  {
   "cell_type": "markdown",
   "metadata": {},
   "source": [
    "- Pros: Fast and simple to implement.\n",
    "- Cons: May produce non-meaningful or incorrect words (e.g., \"happi\" instead of \"happy\")."
   ]
  },
  {
   "cell_type": "markdown",
   "metadata": {},
   "source": [
    "#### 2. Lemmatization"
   ]
  },
  {
   "cell_type": "markdown",
   "metadata": {},
   "source": [
    "Lemmatization is a more advanced process that reduces words to their base form (called the lemma) using the word's meaning and part of speech (POS). Unlike stemming, lemmatization considers the word's context and attempts to return a valid word in the language."
   ]
  },
  {
   "cell_type": "markdown",
   "metadata": {},
   "source": [
    "- \"running\" -> \"run\"\n",
    "- \"better\" -> \"good\"\n",
    "- \"happiness\" -> \"happiness\" (no change as it's already a lemma)"
   ]
  },
  {
   "cell_type": "markdown",
   "metadata": {},
   "source": [
    "```python \n",
    "from nltk.stem import WordNetLemmatizer\n",
    "from nltk.corpus import wordnet\n",
    "\n",
    "lemmatizer = WordNetLemmatizer()\n",
    "words = [\"running\", \"runner\", \"happiness\", \"better\"]\n",
    "lemmatized_words = [lemmatizer.lemmatize(word, pos=wordnet.VERB) for word in words]\n",
    "print(lemmatized_words)  # Output: ['run', 'runner', 'happiness', 'better']\n"
   ]
  },
  {
   "cell_type": "markdown",
   "metadata": {},
   "source": [
    "- Pros: Produces valid words, and preserves the meaning.\n",
    "- Cons: Slower and more computationally expensive than stemming"
   ]
  },
  {
   "cell_type": "markdown",
   "metadata": {},
   "source": []
  }
 ],
 "metadata": {
  "language_info": {
   "name": "python"
  }
 },
 "nbformat": 4,
 "nbformat_minor": 2
}
