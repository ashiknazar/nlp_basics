{
 "cells": [
  {
   "cell_type": "markdown",
   "metadata": {},
   "source": [
    "### Word, Sentence, and Sub-word Tokenization in Python\n",
    "Tokenization is the process of splitting text into smaller units, such as words, sentences, or sub-words, which can be further processed for tasks like natural language processing (NLP). Python provides various libraries to perform tokenization."
   ]
  },
  {
   "cell_type": "markdown",
   "metadata": {},
   "source": [
    "___\n",
    "___"
   ]
  },
  {
   "cell_type": "markdown",
   "metadata": {},
   "source": [
    "#### 1. Word Tokenization\n",
    "\n",
    "Word tokenization splits a sentence into individual words or tokens. It's commonly used in tasks like text preprocessing for machine learning models."
   ]
  },
  {
   "cell_type": "markdown",
   "metadata": {},
   "source": [
    "```python\n",
    "from nltk.tokenize import word_tokenize\n",
    "\n",
    "text = \"Python is a great programming language.\"\n",
    "word_tokens = word_tokenize(text)\n",
    "print(word_tokens)  # Output: ['Python', 'is', 'a', 'great', 'programming', 'language', '.']\n"
   ]
  },
  {
   "cell_type": "markdown",
   "metadata": {},
   "source": [
    "#### 2. Sentence Tokenization"
   ]
  },
  {
   "cell_type": "markdown",
   "metadata": {},
   "source": [
    "Sentence tokenization splits text into sentences, which is useful for tasks like summarization or sentence-level analysis."
   ]
  },
  {
   "cell_type": "markdown",
   "metadata": {},
   "source": [
    "```python \n",
    "from nltk.tokenize import sent_tokenize\n",
    "\n",
    "text = \"Python is great. It's widely used in NLP tasks.\"\n",
    "sentence_tokens = sent_tokenize(text)\n",
    "print(sentence_tokens)  # Output: ['Python is great.', \"It's widely used in NLP tasks.\"]\n"
   ]
  },
  {
   "cell_type": "markdown",
   "metadata": {},
   "source": [
    "#### 3. Sub-word Tokenization\n",
    "Sub-word tokenization splits words into smaller units, often used in deep learning models like BERT. It handles unknown or rare words by breaking them into sub-word units."
   ]
  },
  {
   "cell_type": "markdown",
   "metadata": {},
   "source": [
    "```python \n",
    "from transformers import AutoTokenizer\n",
    "\n",
    "tokenizer = AutoTokenizer.from_pretrained(\"bert-base-uncased\")\n",
    "text = \"unbelievable\"\n",
    "subword_tokens = tokenizer.tokenize(text)\n",
    "print(subword_tokens)  # Output: ['un', '##believable']\n"
   ]
  },
  {
   "cell_type": "markdown",
   "metadata": {},
   "source": []
  }
 ],
 "metadata": {
  "kernelspec": {
   "display_name": "base",
   "language": "python",
   "name": "python3"
  },
  "language_info": {
   "codemirror_mode": {
    "name": "ipython",
    "version": 3
   },
   "file_extension": ".py",
   "mimetype": "text/x-python",
   "name": "python",
   "nbconvert_exporter": "python",
   "pygments_lexer": "ipython3",
   "version": "3.12.7"
  }
 },
 "nbformat": 4,
 "nbformat_minor": 2
}
