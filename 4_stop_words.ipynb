{
 "cells": [
  {
   "cell_type": "markdown",
   "metadata": {},
   "source": [
    "- Stop words are common words that do not carry significant meaning and are typically filtered out during text processing or natural language processing (NLP). Examples of stop words include \"and\", \"the\", \"is\", \"in\", \"at\", and \"of\". These words are often removed because they appear frequently but don't contribute much to the overall meaning of the text."
   ]
  },
  {
   "cell_type": "markdown",
   "metadata": {},
   "source": [
    "#### Using NLTK"
   ]
  },
  {
   "cell_type": "markdown",
   "metadata": {},
   "source": [
    "```python\n",
    "import nltk\n",
    "from nltk.corpus import stopwords\n",
    "nltk.download('stopwords')\n",
    "\n",
    "# Sample text\n",
    "text = \"This is a simple example of how to remove stop words from a sentence.\"\n",
    "\n",
    "# Tokenizing the text into words\n",
    "words = text.split()\n",
    "\n",
    "# Load stop words\n",
    "stop_words = set(stopwords.words('english'))\n",
    "\n",
    "# Remove stop words\n",
    "filtered_words = [word for word in words if word.lower() not in stop_words]\n",
    "\n",
    "print(\"Original text:\", text)\n",
    "print(\"Filtered text:\", ' '.join(filtered_words))\n"
   ]
  },
  {
   "cell_type": "markdown",
   "metadata": {},
   "source": [
    "###  Using spaCy"
   ]
  },
  {
   "cell_type": "markdown",
   "metadata": {},
   "source": [
    "```python -m spacy download en_core_web_sm```\n",
    "```python\n",
    "import spacy\n",
    "\n",
    "# Load the spaCy model\n",
    "nlp = spacy.load(\"en_core_web_sm\")\n",
    "\n",
    "# Sample text\n",
    "text = \"This is a simple example of how to remove stop words from a sentence.\"\n",
    "\n",
    "# Process the text\n",
    "doc = nlp(text)\n",
    "\n",
    "# Remove stop words\n",
    "filtered_words = [token.text for token in doc if not token.is_stop]\n",
    "\n",
    "print(\"Original text:\", text)\n",
    "print(\"Filtered text:\", ' '.join(filtered_words))\n",
    "\n"
   ]
  },
  {
   "cell_type": "markdown",
   "metadata": {},
   "source": [
    "s"
   ]
  }
 ],
 "metadata": {
  "language_info": {
   "name": "python"
  }
 },
 "nbformat": 4,
 "nbformat_minor": 2
}
